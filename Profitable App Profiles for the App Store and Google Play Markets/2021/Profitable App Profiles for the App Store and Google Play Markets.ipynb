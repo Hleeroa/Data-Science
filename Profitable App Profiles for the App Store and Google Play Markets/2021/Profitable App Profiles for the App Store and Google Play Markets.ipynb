{
 "cells": [
  {
   "cell_type": "markdown",
   "id": "a1a88432-8cce-44e0-b1b3-9d5bd2d53ce6",
   "metadata": {},
   "source": [
    "## Profitable App Profiles for the App Store and Google Play Markets"
   ]
  },
  {
   "cell_type": "markdown",
   "id": "d942b28f-9c67-4983-b4e2-606e827107e8",
   "metadata": {},
   "source": [
    "### Step 1: Analyzing Mobile App Data"
   ]
  },
  {
   "cell_type": "markdown",
   "id": "1b7f1237-db2b-4c81-9337-989e1953ffb2",
   "metadata": {},
   "source": [
    "Mail goal of this project is to make an idea about a free app that would be popular for the english speaking auditory depending on the market ratings.\n",
    "In this project we'll research markets of Google Play and Apple, cleaning all the unnesessary data and finding the most popular app genre."
   ]
  },
  {
   "cell_type": "markdown",
   "id": "e5395fa9-2951-4ad9-a9e0-d24146d9ef6f",
   "metadata": {},
   "source": [
    "### Step 2: Opening and Exploring the Data"
   ]
  },
  {
   "cell_type": "markdown",
   "id": "c30e4a99-93ec-412e-88c1-f68e3b03257b",
   "metadata": {},
   "source": [
    "In this area we'll create functions to get the information from the markets and to comfortably abserve it.\n",
    "So, we preapare the needed information as links, we read their data and present it in a more readable way.\n",
    "\n",
    "First, depending on how big our file is we will use pandas to read and to shorten it a little bit. To do this, we'll first: sort our file by popularity so the most popular apps would be up in the file. We'll do that to leave only the most popular versions of an app if it will have duplicates. Next: remove all the versions of an app except for the most popular one.\n",
    "\n",
    "Also,\n",
    "in the function bellow and some of the others we will keep track of the time so we'll see how slow or fast our functions work. "
   ]
  },
  {
   "cell_type": "code",
   "execution_count": 1,
   "id": "797cb07e-4086-406b-9e0f-2a478f88589a",
   "metadata": {},
   "outputs": [],
   "source": [
    "# this function prints headers so it'll be easier to find the right one for next functions\n",
    "\n",
    "\n",
    "import csv\n",
    "\n",
    "def get_csv_headers(data):\n",
    "    with open(data, encoding='UTF-8') as f:\n",
    "        reader = csv.reader(f)\n",
    "        print(next(reader))"
   ]
  },
  {
   "cell_type": "code",
   "execution_count": 2,
   "id": "2743bb37-fef3-402f-b0fd-652cfbca7f6b",
   "metadata": {},
   "outputs": [],
   "source": [
    "# here we take a csv file, sort it by popularity, remove the duplicates\n",
    "# and return a list of lists as a result to be able to work with the other functions:\n",
    "\n",
    "\n",
    "import pandas as pd\n",
    "import csv\n",
    "import time\n",
    "\n",
    "def read_csv_as_list_remove_duple(data, app_name, rating_name) -> list:\n",
    "    start = time.time()\n",
    "    data = pd.read_csv(data)\n",
    "    data = data.sort_values(by=rating_name, ascending=False)\n",
    "    data = data.drop_duplicates(subset=app_name, keep='first')\n",
    "    data_list = data.values.tolist()\n",
    "    print(time.time()-start)\n",
    "    return data_list"
   ]
  },
  {
   "cell_type": "code",
   "execution_count": 3,
   "id": "a399e80d-60e0-4422-9a4a-c27f42895f19",
   "metadata": {},
   "outputs": [],
   "source": [
    "# these are links to datasets of apps in the stores\n",
    "\n",
    "\n",
    "GooglePlayCsv = 'Google-Playstore.csv'\n",
    "AppleStoreCsv = 'appleAppData.csv'"
   ]
  },
  {
   "cell_type": "code",
   "execution_count": 4,
   "id": "26258a7c-cbef-48db-b2dd-f0f53c5a0a11",
   "metadata": {},
   "outputs": [],
   "source": [
    "# this function will be used to read the needed stack of information from a list \n",
    "# and count its size on different steps of research:\n",
    "\n",
    "\n",
    "def explore_data(dataset, start, end, rows_and_columns=False):\n",
    "    dataset_slice = dataset[start:end]\n",
    "    for row in dataset_slice:\n",
    "        print(row)\n",
    "        print('\\n')\n",
    "\n",
    "    if rows_and_columns:\n",
    "        print('Number of rows:', len(dataset))\n",
    "        print('Number of columns:', len(dataset[0]))\n",
    "        return len(dataset)"
   ]
  },
  {
   "cell_type": "markdown",
   "id": "06cdfae1-610a-484b-94ac-b4145d9a54d8",
   "metadata": {},
   "source": [
    "Here are some examples: "
   ]
  },
  {
   "cell_type": "code",
   "execution_count": 5,
   "id": "616639ce-9615-41a8-abd1-9293d8ff9365",
   "metadata": {},
   "outputs": [
    {
     "name": "stdout",
     "output_type": "stream",
     "text": [
      "['App_Id', 'App_Name', 'AppStore_Url', 'Primary_Genre', 'Content_Rating', 'Size_Bytes', 'Required_IOS_Version', 'Released', 'Updated', 'Version', 'Price', 'Currency', 'Free', 'DeveloperId', 'Developer', 'Developer_Url', 'Developer_Website', 'Average_User_Rating', 'Reviews', 'Current_Version_Score', 'Current_Version_Reviews']\n"
     ]
    }
   ],
   "source": [
    "apple_headers = get_csv_headers(AppleStoreCsv)"
   ]
  },
  {
   "cell_type": "code",
   "execution_count": 6,
   "id": "b7ad7d67-9575-489c-a686-a19bc2b55da6",
   "metadata": {
    "scrolled": true
   },
   "outputs": [
    {
     "name": "stdout",
     "output_type": "stream",
     "text": [
      "23.412975549697876\n",
      "['com.google.ios.youtube', 'YouTube: Watch, Listen, Stream', 'https://apps.apple.com/us/app/youtube-watch-listen-stream/id544007664?uo=4', 'Photo & Video', '17+', 261849088.0, '12.0', '2012-09-11T07:23:19Z', '2021-10-10T23:03:29Z', '16.40.3', 0.0, 'USD', True, 281956209, 'Google LLC', 'https://apps.apple.com/us/developer/google-llc/id281956209?uo=4', 'https://www.youtube.com', 4.68757, 22685334, 4.68757, 22685334]\n",
      "\n",
      "\n",
      "['com.burbn.instagram', 'Instagram', 'https://apps.apple.com/us/app/instagram/id389801252?uo=4', 'Photo & Video', '12+', 193046528.0, '12.0', '2010-10-06T08:12:41Z', '2021-10-13T11:48:53Z', '209.1', 0.0, 'USD', True, 389801255, 'Instagram, Inc.', 'https://apps.apple.com/us/developer/instagram-inc/id389801255?uo=4', 'http://instagram.com/', 4.7468, 21839585, 4.7468, 21839585]\n",
      "\n",
      "\n",
      "['com.spotify.client', 'Spotify New Music and Podcasts', 'https://apps.apple.com/us/app/spotify-new-music-and-podcasts/id324684580?uo=4', 'Music', '12+', 154742784.0, '12.0', '2011-07-14T11:22:37Z', '2021-10-08T06:46:57Z', '8.6.68', 0.0, 'USD', True, 324684583, 'Spotify Ltd.', 'https://apps.apple.com/us/developer/spotify-ltd/id324684583?uo=4', 'https://www.spotify.com/', 4.78328, 18893225, 4.78328, 18893225]\n",
      "\n",
      "\n",
      "['net.kortina.labs.Venmo', 'Venmo', 'https://apps.apple.com/us/app/venmo/id351727428?uo=4', 'Finance', '4+', 372536320.0, '12.0', '2010-04-03T05:41:47Z', '2021-10-08T04:00:00Z', '9.5.1', 0.0, 'USD', True, 351727431, 'Venmo', 'https://apps.apple.com/us/developer/venmo/id351727431?uo=4', 'https://venmo.com/', 4.86932, 12634191, 4.86932, 12634191]\n",
      "\n",
      "\n",
      "Number of rows: 1223511\n",
      "Number of columns: 21\n"
     ]
    },
    {
     "data": {
      "text/plain": [
       "1223511"
      ]
     },
     "execution_count": 6,
     "metadata": {},
     "output_type": "execute_result"
    }
   ],
   "source": [
    "# a sneak peek at Apple Store's dataset:\n",
    "\n",
    "\n",
    "ios_csv = read_csv_as_list_remove_duple(AppleStoreCsv, 'App_Name', 'Reviews')\n",
    "explore_data(ios_csv, 0, 4, True)"
   ]
  },
  {
   "cell_type": "code",
   "execution_count": 7,
   "id": "987571a3-61c0-4dba-89a7-8bc453839394",
   "metadata": {
    "scrolled": true
   },
   "outputs": [
    {
     "name": "stdout",
     "output_type": "stream",
     "text": [
      "['', 'App Name', 'App Id', 'Category', 'Rating', 'Rating Count', 'Installs', 'Minimum Installs', 'Maximum Installs', 'Free', 'Price', 'Currency', 'Size', 'Minimum Android', 'Developer Id', 'Developer Website', 'Developer Email', 'Released', 'Last Updated', 'Content Rating', 'Privacy Policy', 'Ad Supported', 'In App Purchases', 'Editors Choice', 'Scraped Time']\n"
     ]
    }
   ],
   "source": [
    "google_headers = get_csv_headers(GooglePlayCsv)"
   ]
  },
  {
   "cell_type": "code",
   "execution_count": 8,
   "id": "1c61a6c2-ddda-4b41-aee8-439067733265",
   "metadata": {
    "scrolled": true
   },
   "outputs": [
    {
     "name": "stdout",
     "output_type": "stream",
     "text": [
      "42.632994174957275\n",
      "[385470, 'WhatsApp Messenger', 'com.whatsapp', 'Communication', 4.0, 138557570.0, '5,000,000,000+', 5000000000.0, 6265637751, True, 0.0, 'USD', 'Varies with device', 'Varies with device', 'WhatsApp LLC', 'http://www.whatsapp.com/', 'android@support.whatsapp.com', 'Oct 18, 2010', 'Jun 09, 2021', 'Everyone', 'http://www.whatsapp.com/legal/#Privacy', False, False, True, '2021-06-16 02:51:24']\n",
      "\n",
      "\n",
      "[304824, 'Instagram', 'com.instagram.android', 'Social', 3.8, 120206190.0, '1,000,000,000+', 1000000000.0, 3559871277, True, 0.0, 'USD', 'Varies with device', 'Varies with device', 'Instagram', 'http://help.instagram.com/', 'android-support@instagram.com', 'Apr 3, 2012', 'Jun 14, 2021', 'Teen', 'http://instagram.com/legal/privacy/', True, True, True, '2021-06-16 01:33:46']\n",
      "\n",
      "\n",
      "[2222701, 'Facebook', 'com.facebook.katana', 'Social', 2.3, 117850066.0, '5,000,000,000+', 5000000000.0, 6782619635, True, 0.0, 'USD', 'Varies with device', 'Varies with device', 'Facebook', 'https://www.facebook.com/facebook', 'facebook.android@fb.com', nan, 'Jun 16, 2021', 'Teen', 'https://www.facebook.com/about/privacy/', True, True, False, '2021-06-16 11:40:20']\n",
      "\n",
      "\n",
      "[881403, 'YouTube', 'com.google.android.youtube', 'Video Players & Editors', 4.4, 112440547.0, '5,000,000,000+', 5000000000.0, 9766230924, True, 0.0, 'USD', 'Varies with device', 'Varies with device', 'Google LLC', 'https://support.google.com/youtube/topic/2422554?rd=1', 'ytandroid-support@google.com', 'Oct 20, 2010', 'Jun 16, 2021', 'Teen', 'http://www.google.com/policies/privacy', True, False, False, '2021-06-16 10:28:37']\n",
      "\n",
      "\n",
      "Number of rows: 2177944\n",
      "Number of columns: 25\n"
     ]
    },
    {
     "data": {
      "text/plain": [
       "2177944"
      ]
     },
     "execution_count": 8,
     "metadata": {},
     "output_type": "execute_result"
    }
   ],
   "source": [
    "# and Google Play's: \n",
    "\n",
    "\n",
    "google_csv = read_csv_as_list_remove_duple(GooglePlayCsv, 'App Name', 'Rating Count')\n",
    "explore_data(google_csv, 0, 4, True)"
   ]
  },
  {
   "cell_type": "markdown",
   "id": "de6f329d-512a-4094-a934-114923ebf69b",
   "metadata": {},
   "source": [
    "### Step 3: Deleting Wrong Data"
   ]
  },
  {
   "cell_type": "markdown",
   "id": "6b56007c-124a-4796-8cb3-058579da5b96",
   "metadata": {},
   "source": [
    "In this section we clean all the unnessesary data, including the following:\n",
    " - apps that are somthing but free. Because we want to create a free app;\n",
    " - apps that are not in english. So our research would be based only english speaking auditory."
   ]
  },
  {
   "cell_type": "markdown",
   "id": "f5056fc6-a961-4351-b546-549d7a3cf33b",
   "metadata": {
    "jp-MarkdownHeadingCollapsed": true
   },
   "source": [
    "#### Step 3.1: Isolating free apps"
   ]
  },
  {
   "cell_type": "code",
   "execution_count": 9,
   "id": "8ea74937-3555-4140-a8af-436f5e801d1f",
   "metadata": {},
   "outputs": [],
   "source": [
    "# for this function we go by the app info and check the price. The function returns True if the app is free and None if not\n",
    "\n",
    "\n",
    "def is_free(row, price_index):\n",
    "    if row[price_index] == 0.0:\n",
    "        return True"
   ]
  },
  {
   "cell_type": "markdown",
   "id": "338ac1f0-71f4-4d54-96e2-bf08dc91ce26",
   "metadata": {},
   "source": [
    "Check on how well everything works so far:"
   ]
  },
  {
   "cell_type": "code",
   "execution_count": 10,
   "id": "3b2af2e5-3ab3-423c-9a77-90e7201aa499",
   "metadata": {},
   "outputs": [
    {
     "name": "stdout",
     "output_type": "stream",
     "text": [
      "0.2879974842071533\n",
      "['com.burbn.instagram', 'Instagram', 'https://apps.apple.com/us/app/instagram/id389801252?uo=4', 'Photo & Video', '12+', 193046528.0, '12.0', '2010-10-06T08:12:41Z', '2021-10-13T11:48:53Z', '209.1', 0.0, 'USD', True, 389801255, 'Instagram, Inc.', 'https://apps.apple.com/us/developer/instagram-inc/id389801255?uo=4', 'http://instagram.com/', 4.7468, 21839585, 4.7468, 21839585]\n",
      "\n",
      "\n",
      "['com.spotify.client', 'Spotify New Music and Podcasts', 'https://apps.apple.com/us/app/spotify-new-music-and-podcasts/id324684580?uo=4', 'Music', '12+', 154742784.0, '12.0', '2011-07-14T11:22:37Z', '2021-10-08T06:46:57Z', '8.6.68', 0.0, 'USD', True, 324684583, 'Spotify Ltd.', 'https://apps.apple.com/us/developer/spotify-ltd/id324684583?uo=4', 'https://www.spotify.com/', 4.78328, 18893225, 4.78328, 18893225]\n",
      "\n",
      "\n",
      "['net.kortina.labs.Venmo', 'Venmo', 'https://apps.apple.com/us/app/venmo/id351727428?uo=4', 'Finance', '4+', 372536320.0, '12.0', '2010-04-03T05:41:47Z', '2021-10-08T04:00:00Z', '9.5.1', 0.0, 'USD', True, 351727431, 'Venmo', 'https://apps.apple.com/us/developer/venmo/id351727431?uo=4', 'https://venmo.com/', 4.86932, 12634191, 4.86932, 12634191]\n",
      "\n",
      "\n",
      "['doordash.DoorDashConsumer', 'DoorDash - Food Delivery', 'https://apps.apple.com/us/app/doordash-food-delivery/id719972451?uo=4', 'Food & Drink', '12+', 271894528.0, '14.0', '2013-10-10T19:46:20Z', '2021-10-11T04:07:03Z', '4.57.0', 0.0, 'USD', True, 719972454, 'DoorDash, Inc.', 'https://apps.apple.com/us/developer/doordash-inc/id719972454?uo=4', 'https://www.doordash.com/', 4.76992, 12517538, 4.76992, 12517538]\n",
      "\n",
      "\n",
      "Number of rows: 1121732\n",
      "Number of columns: 21\n"
     ]
    },
    {
     "data": {
      "text/plain": [
       "1121732"
      ]
     },
     "execution_count": 10,
     "metadata": {},
     "output_type": "execute_result"
    }
   ],
   "source": [
    "# for Apple Store\n",
    "\n",
    "\n",
    "import time\n",
    "\n",
    "clean_ios = []\n",
    "different = []\n",
    "start = time.time()\n",
    "for row in ios_csv:\n",
    "    if is_free(row, 10):\n",
    "        clean_ios.append(row)\n",
    "    else:\n",
    "        different.append(row)\n",
    "print(time.time()-start)\n",
    "explore_data(clean_ios, 1, 5, True)"
   ]
  },
  {
   "cell_type": "code",
   "execution_count": 11,
   "id": "f1eb1c9c-f91d-4cab-bc2b-11cc3f9a0a6a",
   "metadata": {},
   "outputs": [
    {
     "name": "stdout",
     "output_type": "stream",
     "text": [
      "['com.WhatsPad.messenger', 'Messaging for WhatsApp on iPad', 'https://apps.apple.com/us/app/messaging-for-whatsapp-on-ipad/id1131873369?uo=4', 'Social Networking', '4+', 5654528.0, '11.0', '2018-07-01T06:37:30Z', '2019-04-03T10:06:18Z', '1.1.3', 2.99, 'USD', False, 776155467, 'Burak Acemoglu', 'https://apps.apple.com/us/developer/burak-acemoglu/id776155467?uo=4', nan, 4.51323, 299904, 4.51323, 299904]\n",
      "\n",
      "\n",
      "['com.jackadam.darksky', 'Dark Sky Weather', 'https://apps.apple.com/us/app/dark-sky-weather/id517329357?uo=4', 'Weather', '4+', 44150784.0, '11.0', '2012-04-16T07:00:00Z', '2021-06-22T17:41:23Z', '6.8.6', 3.99, 'USD', False, 284417353, 'Apple', 'https://apps.apple.com/us/developer/apple/id284417353?mt=12&uo=4', 'https://darksky.net/app', 4.70354, 276271, 4.70354, 276271]\n",
      "\n",
      "\n",
      "['com.novosoft.TurboScan', 'TurboScan™ Pro: PDF scanner', 'https://apps.apple.com/us/app/turboscan-pro-pdf-scanner/id342548956?uo=4', 'Business', '4+', 31724544.0, '8.0', '2009-12-07T17:46:12Z', '2021-08-05T19:22:44Z', '3.2.3', 5.99, 'USD', False, 342548959, 'Piksoft Inc.', 'https://apps.apple.com/us/developer/piksoft-inc/id342548959?uo=4', nan, 4.92218, 247676, 4.92218, 247676]\n",
      "\n",
      "\n",
      "['com.goodnotesapp.x', 'GoodNotes 5', 'https://apps.apple.com/us/app/goodnotes-5/id1444383602?uo=4', 'Productivity', '4+', 349811712.0, '12.0', '2019-01-15T09:36:27Z', '2021-10-11T07:59:08Z', '5.7.38', 7.99, 'USD', False, 424587624, 'Time Base Technology Limited', 'https://apps.apple.com/us/developer/time-base-technology-limited/id424587624?uo=4', 'https://www.goodnotes.com/', 4.83016, 193992, 4.83016, 193992]\n",
      "\n",
      "\n",
      "Number of rows: 101779\n",
      "Number of columns: 21\n"
     ]
    },
    {
     "data": {
      "text/plain": [
       "101779"
      ]
     },
     "execution_count": 11,
     "metadata": {},
     "output_type": "execute_result"
    }
   ],
   "source": [
    "explore_data(different, 1, 5, True)"
   ]
  },
  {
   "cell_type": "markdown",
   "id": "a338629f-2c22-4f0f-afb6-849ab0998629",
   "metadata": {},
   "source": [
    "After this step we've got 101779 apps that cost something to 1121731 that we need."
   ]
  },
  {
   "cell_type": "code",
   "execution_count": 12,
   "id": "857e8d8f-5d69-4a95-be4d-8be1809291fd",
   "metadata": {
    "scrolled": true
   },
   "outputs": [
    {
     "name": "stdout",
     "output_type": "stream",
     "text": [
      "[385470, 'WhatsApp Messenger', 'com.whatsapp', 'Communication', 4.0, 138557570.0, '5,000,000,000+', 5000000000.0, 6265637751, True, 0.0, 'USD', 'Varies with device', 'Varies with device', 'WhatsApp LLC', 'http://www.whatsapp.com/', 'android@support.whatsapp.com', 'Oct 18, 2010', 'Jun 09, 2021', 'Everyone', 'http://www.whatsapp.com/legal/#Privacy', False, False, True, '2021-06-16 02:51:24']\n",
      "\n",
      "\n",
      "[304824, 'Instagram', 'com.instagram.android', 'Social', 3.8, 120206190.0, '1,000,000,000+', 1000000000.0, 3559871277, True, 0.0, 'USD', 'Varies with device', 'Varies with device', 'Instagram', 'http://help.instagram.com/', 'android-support@instagram.com', 'Apr 3, 2012', 'Jun 14, 2021', 'Teen', 'http://instagram.com/legal/privacy/', True, True, True, '2021-06-16 01:33:46']\n",
      "\n",
      "\n",
      "[2222701, 'Facebook', 'com.facebook.katana', 'Social', 2.3, 117850066.0, '5,000,000,000+', 5000000000.0, 6782619635, True, 0.0, 'USD', 'Varies with device', 'Varies with device', 'Facebook', 'https://www.facebook.com/facebook', 'facebook.android@fb.com', nan, 'Jun 16, 2021', 'Teen', 'https://www.facebook.com/about/privacy/', True, True, False, '2021-06-16 11:40:20']\n",
      "\n",
      "\n",
      "[881403, 'YouTube', 'com.google.android.youtube', 'Video Players & Editors', 4.4, 112440547.0, '5,000,000,000+', 5000000000.0, 9766230924, True, 0.0, 'USD', 'Varies with device', 'Varies with device', 'Google LLC', 'https://support.google.com/youtube/topic/2422554?rd=1', 'ytandroid-support@google.com', 'Oct 20, 2010', 'Jun 16, 2021', 'Teen', 'http://www.google.com/policies/privacy', True, False, False, '2021-06-16 10:28:37']\n",
      "\n",
      "\n",
      "[244319, 'Garena Free Fire - Rampage', 'com.dts.freefireth', 'Action', 4.2, 89177097.0, '500,000,000+', 500000000.0, 976536041, True, 0.0, 'USD', 'Varies with device', '4.1 and up', 'GARENA INTERNATIONAL I PRIVATE LIMITED', 'https://ff.garena.com', 'freefire@garena.com', 'Dec 7, 2017', 'Jun 04, 2021', 'Mature 17+', 'https://ff.garena.com/others/policy/en/', False, True, True, '2021-06-16 00:32:12']\n",
      "\n",
      "\n",
      "Number of rows: 2134388\n",
      "Number of columns: 25\n"
     ]
    },
    {
     "data": {
      "text/plain": [
       "2134388"
      ]
     },
     "execution_count": 12,
     "metadata": {},
     "output_type": "execute_result"
    }
   ],
   "source": [
    "# for Google Play Store\n",
    "\n",
    "\n",
    "clean_google = []\n",
    "different = []\n",
    "for row in google_csv:\n",
    "    if is_free(row, 10):\n",
    "        clean_google.append(row)\n",
    "    else:\n",
    "        different.append(row)\n",
    "explore_data(clean_google, 0, 5, True)"
   ]
  },
  {
   "cell_type": "code",
   "execution_count": 13,
   "id": "111f75e1-ed5a-4ece-a90f-a181b102e14e",
   "metadata": {},
   "outputs": [
    {
     "name": "stdout",
     "output_type": "stream",
     "text": [
      "[837351, 'Minecraft', 'com.mojang.minecraftpe', 'Arcade', 4.6, 4132618.0, '10,000,000+', 10000000.0, 36183322, False, 7.49, 'USD', 'Varies with device', '5.0 and up', 'Mojang', 'http://help.mojang.com', 'help@minecraft.net', 'Aug 15, 2011', 'May 27, 2021', 'Everyone 10+', 'https://privacy.microsoft.com/en-us/privacystatement', False, True, True, '2021-06-16 09:47:13']\n",
      "\n",
      "\n",
      "[508696, 'Hitman Sniper', 'com.squareenixmontreal.hitmansniperandroid', 'Action', 4.4, 854992.0, '10,000,000+', 10000000.0, 24958893, False, 0.99, 'USD', '48M', '4.1 and up', 'SQUARE ENIX LTD', 'http://www.square-enix.com/eng/', 'support@square-enix-montreal.mail.helpshift.com', 'Jun 3, 2015', 'Aug 24, 2020', 'Mature 17+', 'http://eu.square-enix.com/en/documents/privacy-index', True, True, True, '2021-06-16 04:42:58']\n",
      "\n",
      "\n",
      "[1093849, 'Geometry Dash', 'com.robtopx.geometryjump', 'Arcade', 4.6, 780332.0, '1,000,000+', 1000000.0, 4827946, False, 1.99, 'USD', '85M', '4.0 and up', 'RobTop Games', 'http://www.robtopgames.com', 'support@robtopgames.com', 'Aug 12, 2013', 'Nov 15, 2017', 'Everyone', 'http://www.robtopgames.com/privacy_policy.pdf', False, False, False, '2021-06-16 13:49:29']\n",
      "\n",
      "\n",
      "[394623, 'Grand Theft Auto: San Andreas', 'com.rockstargames.gtasa', 'Action', 4.0, 624980.0, '1,000,000+', 1000000.0, 3549625, False, 6.99, 'USD', '15M', '7.0 and up', 'Rockstar Games', 'http://rockstargames.com', 'sanandreasandroidsupport@rockstargames.com', 'Dec 19, 2013', 'Apr 13, 2019', 'Mature 17+', 'http://www.rockstargames.com/privacy', False, False, False, '2021-06-16 03:00:06']\n",
      "\n",
      "\n",
      "[411819, 'Nova Launcher Prime', 'com.teslacoilsw.launcher.prime', 'Personalization', 4.7, 344814.0, '1,000,000+', 1000000.0, 4890831, False, 4.99, 'USD', 'Varies with device', 'Varies with device', 'TeslaCoil Software', 'http://novalauncher.com', 'support@teslacoilsw.com', 'Feb 23, 2012', 'Dec 22, 2020', 'Everyone', 'http://novalauncher.com/privacy/', False, False, False, '2021-06-16 03:16:00']\n",
      "\n",
      "\n",
      "Number of rows: 43556\n",
      "Number of columns: 25\n"
     ]
    },
    {
     "data": {
      "text/plain": [
       "43556"
      ]
     },
     "execution_count": 13,
     "metadata": {},
     "output_type": "execute_result"
    }
   ],
   "source": [
    "explore_data(different, 0, 5, True)"
   ]
  },
  {
   "cell_type": "markdown",
   "id": "98c7ae43-e88a-48b7-8ceb-d8a42c2b185e",
   "metadata": {},
   "source": [
    "Google statistic for free apps is quite surprising in comparison: 43556 expensive apps to 2134388 free"
   ]
  },
  {
   "cell_type": "markdown",
   "id": "e4b62cde-2003-46c0-b62e-ad9a41a785ed",
   "metadata": {
    "jp-MarkdownHeadingCollapsed": true
   },
   "source": [
    "#### Step 3.2: Leaving english apps only"
   ]
  },
  {
   "cell_type": "markdown",
   "id": "d43f27cc-2ed1-4595-aa88-de1cc7fe5fda",
   "metadata": {},
   "source": [
    "On this step we would leave only those apps which are avaliable in English by checking on an app having foreign symbols in its symbols.\n",
    "Each symbol in ascii is coded with a number less than or equal to 127. And by comparing each of the letters to this number we'll get whether it is ascii or not.\n",
    "\n",
    "Also, \n",
    "you see, there is one problem that appears in this code below:"
   ]
  },
  {
   "cell_type": "code",
   "execution_count": 14,
   "id": "bad83d29-9071-4590-bb61-3ffebdb0c7ad",
   "metadata": {},
   "outputs": [
    {
     "name": "stdout",
     "output_type": "stream",
     "text": [
      "['com.citigroup.citimobile', 'Citi Mobile®', 'https://apps.apple.com/us/app/citi-mobile/id301724680?uo=4', 'Finance', '4+', 236280832.0, '12.3', '2009-01-24T08:00:00Z', '2021-09-17T19:15:53Z', '9.44.0', 0.0, 'USD', True, 301724683, 'Citibank', 'https://apps.apple.com/us/developer/citibank/id301724683?uo=4', 'http://www.citibank.com', 4.86892, 2588063, 4.86892, 2588063]\n",
      "174\n"
     ]
    }
   ],
   "source": [
    "print(ios_csv[45])\n",
    "print(ord('®'))"
   ]
  },
  {
   "cell_type": "markdown",
   "id": "9fe401a5-7af3-4c34-94be-b59f06d58b39",
   "metadata": {},
   "source": [
    "We get a number(128540) much heigher than 127 through the app's name is fully in english('Instachat 😜').\n",
    "To fight this problem we add a count of non ascii symbols inside of the name and only if the count is highter than 3 we take the app away."
   ]
  },
  {
   "cell_type": "code",
   "execution_count": 15,
   "id": "65341947-b236-4d37-84e7-bba618a13dd4",
   "metadata": {},
   "outputs": [],
   "source": [
    "# main function is based on identifing non ascii characters using an ord() function\n",
    "\n",
    "\n",
    "def is_english(row, name_index):\n",
    "    non_ASCII = 0\n",
    "    try:\n",
    "        for letter in row[name_index]:\n",
    "            if ord(letter) > 127:\n",
    "                non_ASCII += 1\n",
    "    except TypeError:\n",
    "        return False\n",
    "    if non_ASCII > 3:\n",
    "        return False\n",
    "    else:\n",
    "        return True"
   ]
  },
  {
   "cell_type": "markdown",
   "id": "280a1749-942e-4201-8ea9-df6ee803f252",
   "metadata": {},
   "source": [
    "Function testing:"
   ]
  },
  {
   "cell_type": "code",
   "execution_count": 16,
   "id": "0ef8ec71-00e3-4012-b73f-49a1d4a7e307",
   "metadata": {
    "scrolled": true
   },
   "outputs": [
    {
     "name": "stdout",
     "output_type": "stream",
     "text": [
      "['com.google.ios.youtube', 'YouTube: Watch, Listen, Stream', 'https://apps.apple.com/us/app/youtube-watch-listen-stream/id544007664?uo=4', 'Photo & Video', '17+', 261849088.0, '12.0', '2012-09-11T07:23:19Z', '2021-10-10T23:03:29Z', '16.40.3', 0.0, 'USD', True, 281956209, 'Google LLC', 'https://apps.apple.com/us/developer/google-llc/id281956209?uo=4', 'https://www.youtube.com', 4.68757, 22685334, 4.68757, 22685334]\n",
      "\n",
      "\n",
      "['com.burbn.instagram', 'Instagram', 'https://apps.apple.com/us/app/instagram/id389801252?uo=4', 'Photo & Video', '12+', 193046528.0, '12.0', '2010-10-06T08:12:41Z', '2021-10-13T11:48:53Z', '209.1', 0.0, 'USD', True, 389801255, 'Instagram, Inc.', 'https://apps.apple.com/us/developer/instagram-inc/id389801255?uo=4', 'http://instagram.com/', 4.7468, 21839585, 4.7468, 21839585]\n",
      "\n",
      "\n",
      "['com.spotify.client', 'Spotify New Music and Podcasts', 'https://apps.apple.com/us/app/spotify-new-music-and-podcasts/id324684580?uo=4', 'Music', '12+', 154742784.0, '12.0', '2011-07-14T11:22:37Z', '2021-10-08T06:46:57Z', '8.6.68', 0.0, 'USD', True, 324684583, 'Spotify Ltd.', 'https://apps.apple.com/us/developer/spotify-ltd/id324684583?uo=4', 'https://www.spotify.com/', 4.78328, 18893225, 4.78328, 18893225]\n",
      "\n",
      "\n",
      "['net.kortina.labs.Venmo', 'Venmo', 'https://apps.apple.com/us/app/venmo/id351727428?uo=4', 'Finance', '4+', 372536320.0, '12.0', '2010-04-03T05:41:47Z', '2021-10-08T04:00:00Z', '9.5.1', 0.0, 'USD', True, 351727431, 'Venmo', 'https://apps.apple.com/us/developer/venmo/id351727431?uo=4', 'https://venmo.com/', 4.86932, 12634191, 4.86932, 12634191]\n",
      "\n",
      "\n",
      "Number of rows: 1200421\n",
      "Number of columns: 21\n",
      "['com.peer.udel', 'MRSOOL | مرسول', 'https://apps.apple.com/us/app/mrsool-%D9%85%D8%B1%D8%B3%D9%88%D9%84/id1040038773?uo=4', 'Business', '4+', 251119616.0, '10.0', '2015-09-23T19:36:11Z', '2021-10-10T13:29:52Z', '5.4.0', 0.0, 'USD', True, 635653022, 'MRSOOL', 'https://apps.apple.com/us/developer/mrsool/id635653022?uo=4', 'http://www.mrsool.co', 4.52439, 289577, 4.52439, 289577]\n",
      "\n",
      "\n",
      "['com.pakdata.QuranMajeedLite', 'Quran Majeed – القران الكريم', 'https://apps.apple.com/us/app/quran-majeed-%D8%A7%D9%84%D9%82%D8%B1%D8%A7%D9%86-%D8%A7%D9%84%D9%83%D8%B1%D9%8A%D9%85/id365557665?uo=4', 'Reference', '4+', 264545280.0, '9.3', '2010-04-02T03:41:29Z', '2021-10-11T06:26:26Z', '8.7', 0.0, 'USD', True, 355267671, 'Pakistan Data Management Services', 'https://apps.apple.com/us/developer/pakistan-data-management-services/id355267671?uo=4', 'http://www.pakdata.com/products/quran-majeed', 4.76277, 144479, 4.76277, 144479]\n",
      "\n",
      "\n",
      "['com.souq.souq.com', 'Souq.com  سوق.كوم', 'https://apps.apple.com/us/app/souq-com-%D8%B3%D9%88%D9%82-%D9%83%D9%88%D9%85/id675000850?uo=4', 'Shopping', '4+', 160570368.0, '10.0', '2013-07-24T04:31:02Z', '2021-07-06T15:41:42Z', '5.74.1', 0.0, 'USD', True, 297606954, 'AMZN Mobile LLC', 'https://apps.apple.com/us/developer/amzn-mobile-llc/id297606954?uo=4', 'http://www.souq.com', 4.30111, 121875, 4.30111, 121875]\n",
      "\n",
      "\n",
      "['goldenQuran', 'Golden Quran | المصحف الذهبي', 'https://apps.apple.com/us/app/golden-quran-%D8%A7%D9%84%D9%85%D8%B5%D8%AD%D9%81-%D8%A7%D9%84%D8%B0%D9%87%D8%A8%D9%8A/id852497554?uo=4', 'Book', '4+', 163145728.0, '11.0', '2014-04-11T21:26:30Z', '2021-08-13T14:00:25Z', '13.1.1', 0.0, 'USD', True, 852497557, 'OMAR SHARIF', 'https://apps.apple.com/us/developer/omar-sharif/id852497557?uo=4', nan, 4.68287, 88840, 4.68287, 88840]\n",
      "\n",
      "\n",
      "Number of rows: 23090\n",
      "Number of columns: 21\n",
      "2.055997371673584\n"
     ]
    }
   ],
   "source": [
    "import time\n",
    "\n",
    "start = time.time()\n",
    "\n",
    "clean = []\n",
    "different = []\n",
    "for row in ios_csv:\n",
    "    if is_english(row, 1):\n",
    "        clean.append(row)\n",
    "    else:\n",
    "        different.append(row)\n",
    "english_apps = explore_data(clean, 0, 4, True)\n",
    "non_english_apps = explore_data(different, 0, 4, True)\n",
    "print(time.time()-start)"
   ]
  },
  {
   "cell_type": "code",
   "execution_count": 17,
   "id": "f7769031-a9c6-47de-8699-ce4ce4819d82",
   "metadata": {
    "scrolled": true
   },
   "outputs": [
    {
     "name": "stdout",
     "output_type": "stream",
     "text": [
      "[385470, 'WhatsApp Messenger', 'com.whatsapp', 'Communication', 4.0, 138557570.0, '5,000,000,000+', 5000000000.0, 6265637751, True, 0.0, 'USD', 'Varies with device', 'Varies with device', 'WhatsApp LLC', 'http://www.whatsapp.com/', 'android@support.whatsapp.com', 'Oct 18, 2010', 'Jun 09, 2021', 'Everyone', 'http://www.whatsapp.com/legal/#Privacy', False, False, True, '2021-06-16 02:51:24']\n",
      "\n",
      "\n",
      "[304824, 'Instagram', 'com.instagram.android', 'Social', 3.8, 120206190.0, '1,000,000,000+', 1000000000.0, 3559871277, True, 0.0, 'USD', 'Varies with device', 'Varies with device', 'Instagram', 'http://help.instagram.com/', 'android-support@instagram.com', 'Apr 3, 2012', 'Jun 14, 2021', 'Teen', 'http://instagram.com/legal/privacy/', True, True, True, '2021-06-16 01:33:46']\n",
      "\n",
      "\n",
      "[2222701, 'Facebook', 'com.facebook.katana', 'Social', 2.3, 117850066.0, '5,000,000,000+', 5000000000.0, 6782619635, True, 0.0, 'USD', 'Varies with device', 'Varies with device', 'Facebook', 'https://www.facebook.com/facebook', 'facebook.android@fb.com', nan, 'Jun 16, 2021', 'Teen', 'https://www.facebook.com/about/privacy/', True, True, False, '2021-06-16 11:40:20']\n",
      "\n",
      "\n",
      "[881403, 'YouTube', 'com.google.android.youtube', 'Video Players & Editors', 4.4, 112440547.0, '5,000,000,000+', 5000000000.0, 9766230924, True, 0.0, 'USD', 'Varies with device', 'Varies with device', 'Google LLC', 'https://support.google.com/youtube/topic/2422554?rd=1', 'ytandroid-support@google.com', 'Oct 20, 2010', 'Jun 16, 2021', 'Teen', 'http://www.google.com/policies/privacy', True, False, False, '2021-06-16 10:28:37']\n",
      "\n",
      "\n",
      "Number of rows: 1994708\n",
      "Number of columns: 25\n",
      "[722422, 'СберБанк Онлайн', 'ru.sberbankmobile', 'Finance', 4.6, 6862139.0, '100,000,000+', 100000000.0, 138916447, True, 0.0, 'USD', '166M', '5.0 and up', 'Sberbank of Russia', 'http://sberbank.ru', 'help@sberbank.ru', 'Dec 25, 2012', 'May 27, 2021', 'Everyone', 'https://www.sberbank.ru/common/img/uploaded/files/pdf/person/sbol_privacy_policy.pdf', False, False, False, '2021-06-16 07:59:10']\n",
      "\n",
      "\n",
      "[1170981, 'Авито: авто, квартиры, услуги, работа, резюме', 'com.avito.android', 'Shopping', 4.5, 2330406.0, '50,000,000+', 50000000.0, 99342065, True, 0.0, 'USD', 'Varies with device', 'Varies with device', 'Avito.ru', 'https://support.avito.ru/sections/200009808?from=google_play', 'android@avito.ru', 'Feb 10, 2012', 'Jun 09, 2021', 'Teen', 'https://www.avito.ru/safety/personal/company', True, False, False, '2021-06-16 15:05:10']\n",
      "\n",
      "\n",
      "[1830081, 'Юла: товары со скидками, купить и продать', 'com.allgoritm.youla', 'Shopping', 4.6, 2174997.0, '50,000,000+', 50000000.0, 72397925, True, 0.0, 'USD', 'Varies with device', 'Varies with device', 'Mail.Ru Group', 'http://youla.ru', 'support@youla.ru', 'Sep 22, 2017', 'Jun 10, 2021', 'Teen', 'https://youla.ru/about/privacy', True, False, False, '2021-06-16 05:59:17']\n",
      "\n",
      "\n",
      "[1383610, 'Госуслуги', 'ru.rostel', 'Tools', 4.7, 1756571.0, '10,000,000+', 10000000.0, 48765434, True, 0.0, 'USD', '73M', '5.0 and up', 'Минцифры России', 'https://www.gosuslugi.ru/feedback', 'support_mp@gosuslugi.ru', 'Feb 29, 2012', 'Mar 19, 2021', 'Everyone', 'https://esia.gosuslugi.ru/registration/policiesPrivacy.xhtml', False, False, False, '2021-06-15 23:31:41']\n",
      "\n",
      "\n",
      "Number of rows: 183236\n",
      "Number of columns: 25\n",
      "4.485991716384888\n"
     ]
    }
   ],
   "source": [
    "import time\n",
    "\n",
    "start = time.time()\n",
    "\n",
    "clean = []\n",
    "different = []\n",
    "for row in google_csv:\n",
    "    if is_english(row, 1):\n",
    "        clean.append(row)\n",
    "    else:\n",
    "        different.append(row)\n",
    "english_apps = explore_data(clean, 0, 4, True)\n",
    "non_english_apps = explore_data(different, 0, 4, True)\n",
    "print(time.time()-start)"
   ]
  },
  {
   "cell_type": "markdown",
   "id": "26417bd5-1ae1-4b5f-8909-0b0547350ce9",
   "metadata": {},
   "source": [
    "The statistic shows that in 2021 in Google Play there are 7 times more foreign apps than on Apple Store. By the way the situation in 2018 was turned upside down!"
   ]
  },
  {
   "cell_type": "markdown",
   "id": "642e2431-b845-4f3a-8855-586e17f08797",
   "metadata": {
    "jp-MarkdownHeadingCollapsed": true
   },
   "source": [
    "#### Step 3.3: Filling nan values"
   ]
  },
  {
   "cell_type": "markdown",
   "id": "6f837c9a-7cba-402c-b0f5-19244141a4e3",
   "metadata": {},
   "source": [
    "During our research we found that there are some so called 'nan' values that appear in the coulumn of installs, which is very valuable as the creteria for popularity that we will use later. All together there just 107 apps with nan value of 'Installs' for Google Play Store and 0 for Apple Store in 'Reviews'"
   ]
  },
  {
   "cell_type": "code",
   "execution_count": 18,
   "id": "110b310b-f9f9-4fd6-a3cb-ff9e7388eb3f",
   "metadata": {},
   "outputs": [
    {
     "name": "stdout",
     "output_type": "stream",
     "text": [
      "0\n"
     ]
    }
   ],
   "source": [
    "count = 0\n",
    "\n",
    "for app in ios_csv:           \n",
    "    n_installs = app[-3]\n",
    "    if type(n_installs) == float:\n",
    "        count += 1\n",
    "        continue\n",
    "\n",
    "print(count)"
   ]
  },
  {
   "cell_type": "code",
   "execution_count": 19,
   "id": "89743c9f-ae44-4e16-81b4-de822e86728d",
   "metadata": {},
   "outputs": [
    {
     "name": "stdout",
     "output_type": "stream",
     "text": [
      "[1891126, 'Gıybettin', 'onurgule.giybettin', 'Social', nan, nan, nan, nan, 5756, False, 0.0, nan, '24M', '5.0 and up', 'Onurgule', 'https://giybettin.com', 'info@giybettin.com', 'Jul 22, 2019', 'Apr 11, 2020', 'Everyone', 'https://giybettin.com/privacy.pdf', True, False, False, '2021-06-16 06:50:56']\n"
     ]
    }
   ],
   "source": [
    "# an example of row with a nan value:\n",
    "\n",
    "\n",
    "print(google_csv[2174036])"
   ]
  },
  {
   "cell_type": "code",
   "execution_count": 20,
   "id": "3afb83a2-1181-44b7-b79c-6a5b30025221",
   "metadata": {},
   "outputs": [
    {
     "name": "stdout",
     "output_type": "stream",
     "text": [
      "nan\n",
      "nan\n",
      "nan\n",
      "nan\n"
     ]
    }
   ],
   "source": [
    "x = float('nan')\n",
    "y = 5\n",
    "print(x+y)\n",
    "print(x*y)\n",
    "print(x/y)\n",
    "print(x-y)"
   ]
  },
  {
   "cell_type": "markdown",
   "id": "c17b4190-baf5-41e8-a1ce-04c393ec4547",
   "metadata": {},
   "source": [
    "About nan values: nan is an acronym for 'Not a Number'. It represents an undefined or missing value and has a type float which makes it imposible to make any data related mathematical operations with it because any result will be a nan. \n",
    "\n",
    "For handeling the nan cases we will redefine them to 0 using iteration. "
   ]
  },
  {
   "cell_type": "code",
   "execution_count": 21,
   "id": "10af8136-8886-48c7-adcf-86e922b4d801",
   "metadata": {},
   "outputs": [],
   "source": [
    "import math\n",
    "\n",
    "def filling_nan(row):\n",
    "    for i, value in enumerate(row):\n",
    "        if type(value) is float:\n",
    "            if math.isnan(value):\n",
    "                row[i] = 0\n",
    "    return row"
   ]
  },
  {
   "cell_type": "code",
   "execution_count": 22,
   "id": "8271799b-c612-4213-bd5c-da8aca5e5bad",
   "metadata": {},
   "outputs": [
    {
     "name": "stdout",
     "output_type": "stream",
     "text": [
      "0\n"
     ]
    }
   ],
   "source": [
    "# quick check:\n",
    "\n",
    "\n",
    "import math\n",
    "\n",
    "clean = []\n",
    "for row in google_csv:\n",
    "    clean.append(filling_nan(row))\n",
    "    \n",
    "count = 0\n",
    "for row in google_csv:\n",
    "    for value in row:\n",
    "        if type(value) == float:\n",
    "            if math.isnan(value):\n",
    "                count += 1\n",
    "\n",
    "print(count)"
   ]
  },
  {
   "cell_type": "markdown",
   "id": "0ca3c7d6-6c54-4292-8fa2-abfbfe1dab11",
   "metadata": {},
   "source": [
    "#### Step 3.4: Main "
   ]
  },
  {
   "cell_type": "markdown",
   "id": "a9974765-807c-4086-94b3-bfcfd6ae44ca",
   "metadata": {},
   "source": [
    "Here we will combine all the previous functions into one big. First to make the prosess universal for both google play and apple stores we will create a function that helps us find the right index of position by its name"
   ]
  },
  {
   "cell_type": "code",
   "execution_count": 23,
   "id": "ce7e72b2-2beb-49a1-a41b-726c3321eb47",
   "metadata": {},
   "outputs": [],
   "source": [
    "import time\n",
    "\n",
    "def data_cleaning(data, price_index, name_index):\n",
    "    start = time.time()\n",
    "    result = []\n",
    "    for row in data:\n",
    "        new_row = filling_nan(row)\n",
    "        if is_free(new_row, price_index) and is_english(new_row, name_index):\n",
    "            result.append(new_row)\n",
    "    print(time.time()-start)\n",
    "    return result"
   ]
  },
  {
   "cell_type": "markdown",
   "id": "d4060e9a-3bfe-4f04-9003-ff10d31bfb69",
   "metadata": {},
   "source": [
    "Our final cleaned datasets are ready. Take a look on them:"
   ]
  },
  {
   "cell_type": "code",
   "execution_count": 24,
   "id": "d2a62c73-3780-4db1-85a4-a5b15de21622",
   "metadata": {},
   "outputs": [
    {
     "name": "stdout",
     "output_type": "stream",
     "text": [
      "11.686027765274048\n",
      "[385470, 'WhatsApp Messenger', 'com.whatsapp', 'Communication', 4.0, 138557570.0, '5,000,000,000+', 5000000000.0, 6265637751, True, 0.0, 'USD', 'Varies with device', 'Varies with device', 'WhatsApp LLC', 'http://www.whatsapp.com/', 'android@support.whatsapp.com', 'Oct 18, 2010', 'Jun 09, 2021', 'Everyone', 'http://www.whatsapp.com/legal/#Privacy', False, False, True, '2021-06-16 02:51:24']\n",
      "\n",
      "\n",
      "[304824, 'Instagram', 'com.instagram.android', 'Social', 3.8, 120206190.0, '1,000,000,000+', 1000000000.0, 3559871277, True, 0.0, 'USD', 'Varies with device', 'Varies with device', 'Instagram', 'http://help.instagram.com/', 'android-support@instagram.com', 'Apr 3, 2012', 'Jun 14, 2021', 'Teen', 'http://instagram.com/legal/privacy/', True, True, True, '2021-06-16 01:33:46']\n",
      "\n",
      "\n",
      "[2222701, 'Facebook', 'com.facebook.katana', 'Social', 2.3, 117850066.0, '5,000,000,000+', 5000000000.0, 6782619635, True, 0.0, 'USD', 'Varies with device', 'Varies with device', 'Facebook', 'https://www.facebook.com/facebook', 'facebook.android@fb.com', 0, 'Jun 16, 2021', 'Teen', 'https://www.facebook.com/about/privacy/', True, True, False, '2021-06-16 11:40:20']\n",
      "\n",
      "\n",
      "[881403, 'YouTube', 'com.google.android.youtube', 'Video Players & Editors', 4.4, 112440547.0, '5,000,000,000+', 5000000000.0, 9766230924, True, 0.0, 'USD', 'Varies with device', 'Varies with device', 'Google LLC', 'https://support.google.com/youtube/topic/2422554?rd=1', 'ytandroid-support@google.com', 'Oct 20, 2010', 'Jun 16, 2021', 'Teen', 'http://www.google.com/policies/privacy', True, False, False, '2021-06-16 10:28:37']\n",
      "\n",
      "\n",
      "[244319, 'Garena Free Fire - Rampage', 'com.dts.freefireth', 'Action', 4.2, 89177097.0, '500,000,000+', 500000000.0, 976536041, True, 0.0, 'USD', 'Varies with device', '4.1 and up', 'GARENA INTERNATIONAL I PRIVATE LIMITED', 'https://ff.garena.com', 'freefire@garena.com', 'Dec 7, 2017', 'Jun 04, 2021', 'Mature 17+', 'https://ff.garena.com/others/policy/en/', False, True, True, '2021-06-16 00:32:12']\n",
      "\n",
      "\n",
      "Number of rows: 1954372\n",
      "Number of columns: 25\n"
     ]
    },
    {
     "data": {
      "text/plain": [
       "1954372"
      ]
     },
     "execution_count": 24,
     "metadata": {},
     "output_type": "execute_result"
    }
   ],
   "source": [
    "google_clean = data_cleaning(google_csv, price_index=10, name_index=1)\n",
    "\n",
    "explore_data(google_clean, 0, 5, True)"
   ]
  },
  {
   "cell_type": "code",
   "execution_count": 25,
   "id": "719d2208-21cf-44a6-963a-5460809461f3",
   "metadata": {
    "scrolled": true
   },
   "outputs": [
    {
     "name": "stdout",
     "output_type": "stream",
     "text": [
      "5.052011966705322\n",
      "['com.google.ios.youtube', 'YouTube: Watch, Listen, Stream', 'https://apps.apple.com/us/app/youtube-watch-listen-stream/id544007664?uo=4', 'Photo & Video', '17+', 261849088.0, '12.0', '2012-09-11T07:23:19Z', '2021-10-10T23:03:29Z', '16.40.3', 0.0, 'USD', True, 281956209, 'Google LLC', 'https://apps.apple.com/us/developer/google-llc/id281956209?uo=4', 'https://www.youtube.com', 4.68757, 22685334, 4.68757, 22685334]\n",
      "\n",
      "\n",
      "['com.burbn.instagram', 'Instagram', 'https://apps.apple.com/us/app/instagram/id389801252?uo=4', 'Photo & Video', '12+', 193046528.0, '12.0', '2010-10-06T08:12:41Z', '2021-10-13T11:48:53Z', '209.1', 0.0, 'USD', True, 389801255, 'Instagram, Inc.', 'https://apps.apple.com/us/developer/instagram-inc/id389801255?uo=4', 'http://instagram.com/', 4.7468, 21839585, 4.7468, 21839585]\n",
      "\n",
      "\n",
      "['com.spotify.client', 'Spotify New Music and Podcasts', 'https://apps.apple.com/us/app/spotify-new-music-and-podcasts/id324684580?uo=4', 'Music', '12+', 154742784.0, '12.0', '2011-07-14T11:22:37Z', '2021-10-08T06:46:57Z', '8.6.68', 0.0, 'USD', True, 324684583, 'Spotify Ltd.', 'https://apps.apple.com/us/developer/spotify-ltd/id324684583?uo=4', 'https://www.spotify.com/', 4.78328, 18893225, 4.78328, 18893225]\n",
      "\n",
      "\n",
      "['net.kortina.labs.Venmo', 'Venmo', 'https://apps.apple.com/us/app/venmo/id351727428?uo=4', 'Finance', '4+', 372536320.0, '12.0', '2010-04-03T05:41:47Z', '2021-10-08T04:00:00Z', '9.5.1', 0.0, 'USD', True, 351727431, 'Venmo', 'https://apps.apple.com/us/developer/venmo/id351727431?uo=4', 'https://venmo.com/', 4.86932, 12634191, 4.86932, 12634191]\n",
      "\n",
      "\n",
      "['doordash.DoorDashConsumer', 'DoorDash - Food Delivery', 'https://apps.apple.com/us/app/doordash-food-delivery/id719972451?uo=4', 'Food & Drink', '12+', 271894528.0, '14.0', '2013-10-10T19:46:20Z', '2021-10-11T04:07:03Z', '4.57.0', 0.0, 'USD', True, 719972454, 'DoorDash, Inc.', 'https://apps.apple.com/us/developer/doordash-inc/id719972454?uo=4', 'https://www.doordash.com/', 4.76992, 12517538, 4.76992, 12517538]\n",
      "\n",
      "\n",
      "Number of rows: 1099863\n",
      "Number of columns: 21\n"
     ]
    },
    {
     "data": {
      "text/plain": [
       "1099863"
      ]
     },
     "execution_count": 25,
     "metadata": {},
     "output_type": "execute_result"
    }
   ],
   "source": [
    "ios_clean = data_cleaning(ios_csv, price_index=10, name_index=1)\n",
    "\n",
    "explore_data(ios_clean, 0, 5, True)"
   ]
  },
  {
   "cell_type": "markdown",
   "id": "d1240831-e2f9-4221-820a-6727ae78feaa",
   "metadata": {},
   "source": [
    "So in the end of validation we are left with 1'954'372 apps in Google Play Store and 1'099'377 apps in Apple Store"
   ]
  },
  {
   "cell_type": "markdown",
   "id": "5b90e0e4-7265-4914-abf0-38656877bf84",
   "metadata": {},
   "source": [
    "### Step 4: Most Common Apps by Genre"
   ]
  },
  {
   "cell_type": "markdown",
   "id": "cb0135e1-9049-4faa-a957-90e73ac3dbde",
   "metadata": {},
   "source": [
    "Our main goal is to figure it out what kind of app will more likely to attract a lot of attention. So far we have cleaned the data for the research and now we would look at the most common genres for creating an app.\n",
    " Here we'll make a better view of our data:"
   ]
  },
  {
   "cell_type": "code",
   "execution_count": 26,
   "id": "f5b520d2-8746-4481-bd3d-5d99e2843556",
   "metadata": {},
   "outputs": [],
   "source": [
    "# creating a dictionary with [name_of_a_genre] = percentage of apps MADE in this genre:\n",
    "\n",
    "\n",
    "def freq_table(data, index):\n",
    "    percent_100 = 0\n",
    "    freq = {}\n",
    "    for row in data:\n",
    "        percent_100 += 1\n",
    "        criteria = row[index]\n",
    "        if criteria in freq.keys():\n",
    "            freq[criteria] += 1\n",
    "        else: \n",
    "            freq[criteria] = 1\n",
    "    for key, value in freq.items():\n",
    "        freq[key] = round(value * 100 / percent_100, 3)\n",
    "    return freq"
   ]
  },
  {
   "cell_type": "code",
   "execution_count": 27,
   "id": "09ebf158-9c5a-47c3-a1b8-ad4936965bc8",
   "metadata": {},
   "outputs": [],
   "source": [
    "# sorting dictionary & creating a better view on the picture:\n",
    "\n",
    "\n",
    "def display_table(data, index):\n",
    "    table = freq_table(data, index)\n",
    "    table_sorted = sorted(table.items(), key=lambda item: item[1], reverse=True)\n",
    "    for entry in table_sorted:\n",
    "        print(entry[0], ':', entry[1])"
   ]
  },
  {
   "cell_type": "markdown",
   "id": "8badf2c5-81c8-46d3-9389-871ad0125470",
   "metadata": {},
   "source": [
    "__The most common apps by genre for Gooogle Play Store:__"
   ]
  },
  {
   "cell_type": "code",
   "execution_count": null,
   "id": "fd99ff7c-ee35-44eb-88fd-e6f4aea09abb",
   "metadata": {},
   "outputs": [],
   "source": [
    "display_table(google_clean, 3)"
   ]
  },
  {
   "cell_type": "markdown",
   "id": "c68e797d-29b3-4ea6-83fa-dea03ddeec0a",
   "metadata": {},
   "source": [
    "If you'll look at this you might think that the best desision is to build an educational app because it's the most common category"
   ]
  },
  {
   "cell_type": "markdown",
   "id": "383d27a0-e0bf-40ff-8ce7-13896d880764",
   "metadata": {},
   "source": [
    "__Same for Apple Store:__"
   ]
  },
  {
   "cell_type": "code",
   "execution_count": null,
   "id": "15b30890-c398-42ca-8225-ddff8a0a7d5c",
   "metadata": {
    "scrolled": true
   },
   "outputs": [],
   "source": [
    "display_table(ios_clean, 3)"
   ]
  },
  {
   "cell_type": "markdown",
   "id": "8a58c1ae-d606-4b8b-a0d5-9439b7e7d4bc",
   "metadata": {},
   "source": [
    "For Apple Store situation is different. If you look at the first most comon category you will see 'Games' which was not at the first positions in Google Play as well. Maybe because Google Play developers decided to devide one category into many small ones.\n",
    "\n",
    "Education still has 9 persent of all apps as in Google Play Store."
   ]
  },
  {
   "cell_type": "markdown",
   "id": "e7beecc1-cf70-4b42-9d60-aa10fc8ccf12",
   "metadata": {},
   "source": [
    "### Step 5: Most Popular Apps by Genre"
   ]
  },
  {
   "cell_type": "markdown",
   "id": "c3a018c2-1f2e-44fd-bebb-cfbd306bffae",
   "metadata": {},
   "source": [
    "That's the final step of our observing. We'll look at 'Category' and 'Installs' in Google Play; and 'Primary_Genre' and 'Reviews' in Apple Store. The abserving will include two different cycles of building raitings:\n",
    " - In the first we'll go by genres\n",
    " - In the second - by apps."
   ]
  },
  {
   "cell_type": "markdown",
   "id": "f55423b5-2934-42d4-a793-e35a05a306f7",
   "metadata": {},
   "source": [
    "#### Step 5.1: Apple Store"
   ]
  },
  {
   "cell_type": "code",
   "execution_count": null,
   "id": "e8d4b0e1-70f5-40b1-b6a5-804adcce5ae4",
   "metadata": {
    "scrolled": true
   },
   "outputs": [],
   "source": [
    "# main function for ios\n",
    "\n",
    "genre_index = 3\n",
    "review_index = -3\n",
    "unique_genres = freq_table(ios_clean, genre_index).keys()\n",
    "result = {}\n",
    "for genre in unique_genres:\n",
    "    total = 0\n",
    "    len_genre = 0\n",
    "    for app in ios_clean:\n",
    "        genre_app = app[genre_index]\n",
    "        if genre_app == genre:\n",
    "            total += float(app[review_index])\n",
    "            len_genre += 1\n",
    "    avg_ratings = total / len_genre\n",
    "    result[genre] = avg_ratings\n",
    "table_sorted = sorted(result.items(), key=lambda item: item[1], reverse=True)\n",
    "for entry in table_sorted:\n",
    "    print(entry[0], ':', entry[1])"
   ]
  },
  {
   "cell_type": "markdown",
   "id": "a35207eb-baab-4119-8874-ddc6adb632da",
   "metadata": {},
   "source": [
    "The most popular category's place found in its strange ways Weather(3671) with a small gap from the second place - Photo & Video with 3666.\n",
    "\n",
    "Games at the same point took the 6th place."
   ]
  },
  {
   "cell_type": "markdown",
   "id": "b349d647-a827-4f77-a7d3-86446716a221",
   "metadata": {},
   "source": [
    "#### Step 5.2: Google Play Store"
   ]
  },
  {
   "cell_type": "code",
   "execution_count": null,
   "id": "3a939a40-848e-4bf3-84e4-cb2e078502b9",
   "metadata": {
    "scrolled": true
   },
   "outputs": [],
   "source": [
    "# main function for android\n",
    "genre_index = 3\n",
    "review_index = 6\n",
    "unique_genres = freq_table(google_clean, genre_index).keys()\n",
    "\n",
    "for category in unique_genres:\n",
    "    total = 0\n",
    "    len_category = 0\n",
    "    for app in google_clean:\n",
    "        category_app = app[genre_index]\n",
    "        if category_app == category:            \n",
    "            n_installs = app[review_index]\n",
    "            if type(n_installs) == int:\n",
    "                total += n_installs\n",
    "                continue\n",
    "            n_installs = n_installs.replace(',', '')\n",
    "            n_installs = n_installs.replace('+', '')\n",
    "            total += float(n_installs)\n",
    "            len_category += 1\n",
    "    avg_n_installs = total / len_category\n",
    "    print(category, ':', avg_n_installs)"
   ]
  },
  {
   "cell_type": "markdown",
   "id": "b208ac5d-ba71-4cc8-aefc-1e4ee43336b5",
   "metadata": {},
   "source": [
    "COMMUNICATION is the most popular category for Google Play. Which is not surprising with the giants like 'WhatsApp' and 'Google Chrome'. Depending on the pretty small diversity of this genre that's not the best idea for an area to make an app in."
   ]
  },
  {
   "cell_type": "code",
   "execution_count": null,
   "id": "57468c24-09d6-41f8-83af-b4278bb69730",
   "metadata": {},
   "outputs": [],
   "source": [
    "for app in google_clean:\n",
    "    if app[3] == 'Communication' and (app[6] == '5,000,000,000+'\n",
    "                                      or app[6] == '1,000,000,000+'\n",
    "                                      or app[6] == '500,000,000+'):\n",
    "        print(app[1], ':', app[6])"
   ]
  },
  {
   "cell_type": "code",
   "execution_count": null,
   "id": "eb2bf441-1526-4d90-a68e-994c5352f9a2",
   "metadata": {},
   "outputs": [],
   "source": [
    "for app in google_clean:\n",
    "    if app[3] == 'Board' and (app[6] == '5,000,000,000+'\n",
    "                                      or app[6] == '1,000,000,000+'\n",
    "                                      or app[6] == '500,000,000+'):\n",
    "        print(app[1], ':', app[6])"
   ]
  },
  {
   "cell_type": "code",
   "execution_count": null,
   "id": "68e81134-2329-4745-aa49-104c6eea8cc6",
   "metadata": {
    "scrolled": true
   },
   "outputs": [],
   "source": [
    "for app in google_clean:\n",
    "    if app[3] == 'Board' and (app[6] == '100,000,000+'\n",
    "                                      or app[6] == '50,000,000+'\n",
    "                                      or app[6] == '10,000,000+'):\n",
    "        print(app[1], ':', app[6])"
   ]
  },
  {
   "cell_type": "markdown",
   "id": "6262690b-c4ae-4e8f-b277-4f79a596337d",
   "metadata": {},
   "source": [
    "I suggest to make an app in the Board genre. It is middle by popularity and the apps in this category are mostly the classic board games like Roll-and-move or Colour. So they hold to the classical disigns. I think it will be easier to highlight yourself in this category by creating a more complex and absurd game. "
   ]
  },
  {
   "cell_type": "markdown",
   "id": "12eeb8e2-4aa0-4968-b2ac-021bdeee2a32",
   "metadata": {},
   "source": [
    "### Conclucion"
   ]
  },
  {
   "cell_type": "markdown",
   "id": "4db8e49b-f7a2-4d9c-8c2e-0cacaffe6ce6",
   "metadata": {},
   "source": [
    "In this project our goal was to make a recomendation of an app profile that would be popular on the Google Play Market. \n",
    "\n",
    "During this prosses we were organazing data, validating and researching it. We used such libraries as: math, time, pandas, csv. \n",
    "\n",
    "Aside from the main research we learned about nan values and sistem of ASCII encoding."
   ]
  },
  {
   "cell_type": "code",
   "execution_count": null,
   "id": "bfe9d8ae-9d3c-465a-b732-3ff7b4ee01f3",
   "metadata": {},
   "outputs": [],
   "source": []
  }
 ],
 "metadata": {
  "kernelspec": {
   "display_name": "Python 3 (ipykernel)",
   "language": "python",
   "name": "python3"
  },
  "language_info": {
   "codemirror_mode": {
    "name": "ipython",
    "version": 3
   },
   "file_extension": ".py",
   "mimetype": "text/x-python",
   "name": "python",
   "nbconvert_exporter": "python",
   "pygments_lexer": "ipython3",
   "version": "3.12.0"
  }
 },
 "nbformat": 4,
 "nbformat_minor": 5
}
